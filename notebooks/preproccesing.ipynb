{
 "cells": [
  {
   "cell_type": "code",
   "execution_count": null,
   "metadata": {},
   "outputs": [],
   "source": [
    "import joblib\n",
    "import json\n",
    "import numpy as np\n",
    "# Load the trained machine learning model\n",
    "\n",
    "trained_model = joblib.load(\"C:\\Users\\woute\\Desktop\\Dev\\Projects\\BeCode\\challenge-data-analysis\\challenge-data-analysis\\models\\decision_tree_model.pkl\")\n",
    "scaler =\n",
    "encoder =\n",
    "\n",
    "def remove_outliers_iqr(data, lower_percentile=25, upper_percentile=80, threshold=1.5):\n",
    "    # Apply the IQR method to remove outliers for each feature\n",
    "    for feature in data.keys():\n",
    "        q1 = np.percentile(data[feature], lower_percentile)\n",
    "        q3 = np.percentile(data[feature], upper_percentile)\n",
    "        iqr = q3 - q1\n",
    "        lower_bound = q1 - threshold * iqr\n",
    "        upper_bound = q3 + threshold * iqr\n",
    "        data[feature] = [x for x in data[feature] if lower_bound <= x <= upper_bound]\n",
    "\n",
    "    return data\n",
    "    \n",
    "\n",
    "def preprocess_new_data(data):\n",
    "    required_features = [\"Habitable surface\", \"Bedroom Count\", \"Garden surface\"]\n",
    "    required_target = \"Price\"\n",
    "    for feature in required_features + [required_target]:\n",
    "        if feature not in data:\n",
    "            raise ValueError(f\"Missing required feature or target: {feature}\")\n",
    "\n",
    "    # Prepare the feature vector for prediction\n",
    "    features = [data[feature] for feature in required_features]\n",
    "    feature_vector = np.array(features).reshape(1, -1)\n",
    "\n",
    "    # Scale the features using the loaded scaler (if used during training)\n",
    "    if scaler is not None:\n",
    "        feature_vector = scaler.transform(feature_vector)\n",
    "\n",
    "\n",
    "    preprocessed_data = {\"features\": feature_vector, \"target\": data[required_target]}\n",
    "    return preprocessed_data\n",
    "\n"
   ]
  },
  {
   "cell_type": "code",
   "execution_count": null,
   "metadata": {},
   "outputs": [],
   "source": [
    "from pydantic import BaseModel\n",
    "\n",
    "class Input(BaseModel):\n",
    "    habitable_surface = int,\n",
    "    bedroom_count = int,\n",
    "    garden_surface = int\n",
    "\n",
    "def predict_new_data(data):\n",
    "    X =[[data.habitable_surface,\n",
    "         data.bed_count,\n",
    "         data.garden_surface\n",
    "         ]]\n",
    "    \n",
    "    predict = trained_model.predict(X)\n",
    "    return predict\n"
   ]
  }
 ],
 "metadata": {
  "language_info": {
   "name": "python"
  },
  "orig_nbformat": 4
 },
 "nbformat": 4,
 "nbformat_minor": 2
}
